{
 "cells": [
  {
   "cell_type": "code",
   "execution_count": null,
   "id": "a483120f-2eae-4078-a1d3-d907a89194ff",
   "metadata": {
    "tags": []
   },
   "outputs": [],
   "source": [
    "import cartopy.crs as ccrs\n",
    "import matplotlib.pyplot as plt\n",
    "import xarray as xr\n",
    "\n",
    "from canopy_app import config_cases, run, run_config_sens, DEFAULT_POINT_INPUT\n",
    "\n",
    "xr.set_options(display_expand_data=False, display_expand_attrs=False)\n",
    "\n",
    "plt.rcParams.update(\n",
    "    {\n",
    "        \"figure.autolayout\": True,\n",
    "        \"axes.formatter.limits\": (-3, 4),  # scilimits\n",
    "        \"axes.formatter.use_mathtext\": True,\n",
    "        \"figure.max_open_warning\": 0,\n",
    "    }\n",
    ")\n",
    "\n",
    "%matplotlib widget"
   ]
  },
  {
   "cell_type": "markdown",
   "id": "eb1313a9-d52b-4fbd-a974-9711cadbca74",
   "metadata": {},
   "source": [
    "## Default case (2-D)\n",
    "\n",
    "Southeast US"
   ]
  },
  {
   "cell_type": "code",
   "execution_count": null,
   "id": "4ed686d4-9925-482a-8784-87f1cc3c14fd",
   "metadata": {
    "tags": []
   },
   "outputs": [],
   "source": [
    "inp = xr.open_dataset(\"../input/gfs.t12z.20220701.sfcf000.canopy.nc\")"
   ]
  },
  {
   "cell_type": "code",
   "execution_count": null,
   "id": "74e15641-102f-494a-b0e0-1907e29f1602",
   "metadata": {
    "tags": []
   },
   "outputs": [],
   "source": [
    "inp"
   ]
  },
  {
   "cell_type": "code",
   "execution_count": null,
   "id": "dee21872-f71f-4da9-95e2-62905cdad0bb",
   "metadata": {
    "tags": []
   },
   "outputs": [],
   "source": [
    "%%time\n",
    "\n",
    "ds = run()"
   ]
  },
  {
   "cell_type": "code",
   "execution_count": null,
   "id": "03ff7007-e2ed-4035-ad0d-e8e34f085348",
   "metadata": {
    "tags": []
   },
   "outputs": [],
   "source": [
    "ds.waf.plot(x=\"lon\", y=\"lat\", size=3)"
   ]
  },
  {
   "cell_type": "code",
   "execution_count": null,
   "id": "ea4a3c3c-efaf-4a50-8f17-ec620a1ccc75",
   "metadata": {},
   "outputs": [],
   "source": [
    "proj = ccrs.Mercator()\n",
    "tran = ccrs.PlateCarree()\n",
    "\n",
    "fig = plt.figure(constrained_layout=True)\n",
    "ax = fig.add_subplot(projection=proj)\n",
    "\n",
    "ax.coastlines()\n",
    "ax.gridlines(draw_labels=True)\n",
    "\n",
    "ds.waf.plot(x=\"lon\", y=\"lat\", ax=ax, transform=tran, alpha=0.8)"
   ]
  },
  {
   "cell_type": "markdown",
   "id": "e66a40fc-c23e-4833-bd6a-8c6cbecec3d8",
   "metadata": {},
   "source": [
    "## Default point case"
   ]
  },
  {
   "cell_type": "code",
   "execution_count": null,
   "id": "208d8258-2f75-4f4b-8ea7-92da20c8ca26",
   "metadata": {
    "tags": []
   },
   "outputs": [],
   "source": [
    "DEFAULT_POINT_INPUT.T"
   ]
  },
  {
   "cell_type": "code",
   "execution_count": null,
   "id": "750e0000-930f-4460-8b62-a263b2bd1b6c",
   "metadata": {
    "tags": []
   },
   "outputs": [],
   "source": [
    "ds = run(\n",
    "    config={\n",
    "        \"filenames\": {\"file_vars\": \"../input/input_variables_point.txt\"},\n",
    "        \"userdefs\": {\"infmt_opt\": 1, \"nlat\": 1, \"nlon\": 1},\n",
    "    },\n",
    ")"
   ]
  },
  {
   "cell_type": "code",
   "execution_count": null,
   "id": "62daba50-89fa-43ef-bee8-0c819069af22",
   "metadata": {
    "tags": []
   },
   "outputs": [],
   "source": [
    "ds.canopy_height"
   ]
  },
  {
   "cell_type": "code",
   "execution_count": null,
   "id": "4e0d542a-0b72-4a31-b409-bafe39d84428",
   "metadata": {
    "tags": []
   },
   "outputs": [],
   "source": [
    "(\n",
    "    ds[[vn for vn in ds.data_vars if vn.startswith(\"emi_\")]]\n",
    "    .sel(z=10, method=\"nearest\")\n",
    "    .to_pandas()\n",
    "    .to_frame()\n",
    "    .plot.bar(figsize=(6, 3), legend=False)\n",
    ")"
   ]
  },
  {
   "cell_type": "code",
   "execution_count": null,
   "id": "f675f936-df2c-49a8-8d21-dde4b5ba682e",
   "metadata": {},
   "outputs": [],
   "source": []
  }
 ],
 "metadata": {
  "kernelspec": {
   "display_name": "Python 3 (ipykernel)",
   "language": "python",
   "name": "python3"
  },
  "language_info": {
   "codemirror_mode": {
    "name": "ipython",
    "version": 3
   },
   "file_extension": ".py",
   "mimetype": "text/x-python",
   "name": "python",
   "nbconvert_exporter": "python",
   "pygments_lexer": "ipython3",
   "version": "3.10.10"
  }
 },
 "nbformat": 4,
 "nbformat_minor": 5
}
