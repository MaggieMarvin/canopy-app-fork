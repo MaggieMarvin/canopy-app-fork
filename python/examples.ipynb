{
 "cells": [
  {
   "cell_type": "code",
   "execution_count": null,
   "id": "a483120f-2eae-4078-a1d3-d907a89194ff",
   "metadata": {
    "tags": []
   },
   "outputs": [],
   "source": [
    "import cartopy.crs as ccrs\n",
    "import matplotlib.pyplot as plt\n",
    "import numpy as np\n",
    "import xarray as xr\n",
    "\n",
    "from canopy_app import config_cases, run, run_config_sens, DEFAULT_POINT_INPUT\n",
    "\n",
    "xr.set_options(display_expand_data=False, display_expand_attrs=False)\n",
    "\n",
    "plt.rcParams.update(\n",
    "    {\n",
    "        \"figure.autolayout\": True,\n",
    "        \"axes.formatter.limits\": (-3, 4),\n",
    "        \"axes.formatter.use_mathtext\": True,\n",
    "        \"figure.max_open_warning\": 0,\n",
    "    }\n",
    ")\n",
    "\n",
    "%matplotlib widget"
   ]
  },
  {
   "cell_type": "markdown",
   "id": "eb1313a9-d52b-4fbd-a974-9711cadbca74",
   "metadata": {},
   "source": [
    "## Default case (2-D)\n",
    "\n",
    "Southeast US\n",
    "\n",
    "```\n",
    "provide spatial plots for 3D vars (e.g., ave. in-canopy ws, kz, rjcf and sum in-canopy biogenic isoprene) and 2D vars (flame height, waf)\n",
    "```"
   ]
  },
  {
   "cell_type": "code",
   "execution_count": null,
   "id": "4ed686d4-9925-482a-8784-87f1cc3c14fd",
   "metadata": {
    "tags": []
   },
   "outputs": [],
   "source": [
    "inp = xr.open_dataset(\"../input/gfs.t12z.20220701.sfcf000.canopy.nc\")"
   ]
  },
  {
   "cell_type": "code",
   "execution_count": null,
   "id": "74e15641-102f-494a-b0e0-1907e29f1602",
   "metadata": {
    "tags": []
   },
   "outputs": [],
   "source": [
    "inp"
   ]
  },
  {
   "cell_type": "code",
   "execution_count": null,
   "id": "dee21872-f71f-4da9-95e2-62905cdad0bb",
   "metadata": {
    "tags": []
   },
   "outputs": [],
   "source": [
    "%%time\n",
    "\n",
    "ds = run()"
   ]
  },
  {
   "cell_type": "code",
   "execution_count": null,
   "id": "03ff7007-e2ed-4035-ad0d-e8e34f085348",
   "metadata": {
    "tags": []
   },
   "outputs": [],
   "source": [
    "ds.waf.plot(x=\"lon\", y=\"lat\", size=3)"
   ]
  },
  {
   "cell_type": "code",
   "execution_count": null,
   "id": "ea4a3c3c-efaf-4a50-8f17-ec620a1ccc75",
   "metadata": {},
   "outputs": [],
   "source": [
    "proj = ccrs.Mercator()\n",
    "tran = ccrs.PlateCarree()\n",
    "\n",
    "fig = plt.figure(constrained_layout=True)\n",
    "ax = fig.add_subplot(projection=proj)\n",
    "\n",
    "ax.coastlines()\n",
    "ax.gridlines(draw_labels=True)\n",
    "\n",
    "ds.waf.plot(x=\"lon\", y=\"lat\", ax=ax, transform=tran, alpha=0.8)"
   ]
  },
  {
   "cell_type": "markdown",
   "id": "d33c17d2-edb6-4ff4-97f6-202911a29d11",
   "metadata": {},
   "source": [
    "## Canopy thresholds\n",
    "\n",
    "```\n",
    "Maybe, lai_thresh = 0.1\n",
    "frt_thresh = 0.1\n",
    "fch_thresh = 0.5...\n",
    "and\n",
    "lai_thresh = 0.5\n",
    "frt_thresh = 0.5\n",
    "fch_thresh = 0.5\n",
    "or,\n",
    "lai_thresh = 0.1\n",
    "frt_thresh = 0.5\n",
    "fch_thresh = 10.0 (or 3.0) or something only representing tall forest stands...\n",
    "```"
   ]
  },
  {
   "cell_type": "markdown",
   "id": "94677ab2-4a65-4408-b63f-9dfdf395aff2",
   "metadata": {},
   "source": [
    "## PAI options\n",
    "\n",
    "```\n",
    "For, flameh_opt/flameh_set,/frp_fac, here is a suggestion of case sensitivities:\n",
    "0, 1.0, 1.0  (Straight FRP to flameh calculation, only for active FRP/fire points, no FRP tuning)\n",
    "1, 2.0, 1.0  (User-set flame height = 2.0 m for all canopy points)\n",
    "2, 2.0, 1.0  (FRP to flameh calculation for active FRP/fire points,   user-set flame height = 2.0 m elsewhere, no FRP tuning)\n",
    "3, 0.5, 1.0  (Flameh is set to 0.5*Hc (m) for all canopy points)\n",
    "4, 0.5, 1.0  (FRP to flameh calculation for active FRP/fire points, flameh is set to 0.5*Hc (m) elsewhere, no FRP tuning)\n",
    "5, 0.5, 10.0  (FRP to flameh calculation for active FRP/fire points with crowning dependence (flameh=Hc), flameh is set to 0.5*Hc (m) elsewhere, FRP increased by a factor of 10)\n",
    "```"
   ]
  },
  {
   "cell_type": "markdown",
   "id": "f4399277-d26b-433b-aac1-24b0a981ef85",
   "metadata": {},
   "source": [
    "## Flame height options\n",
    "\n",
    "```\n",
    "For pai_opt/pai_set, here is a list of sensitivities:\n",
    "0, 1 (PAI from Katul et al., 2004 vegetation types/lookup table)\n",
    "2, 1 (PAI estimated from model LAI)\n",
    "3, 1 (User-set PAI = 1)\n",
    "3, 2 (User-set PAI = 2)\n",
    "3, 4 (User-set PAI = 4)\n",
    "```"
   ]
  },
  {
   "cell_type": "markdown",
   "id": "c9a7ab18-212f-4b74-a4c9-edf1344ab072",
   "metadata": {},
   "source": [
    "## Canopy environment coefficient (biogenics)\n",
    "\n",
    "```\n",
    "Also, we should have a sensitivity for the biogenics, using the bio_cce (canopy environment coefficient) that is a tuning parameter for different model inputs..(the default 0.21 is based on Silva et al. and GEOS-Chem environment)...\n",
    "```"
   ]
  },
  {
   "cell_type": "markdown",
   "id": "e66a40fc-c23e-4833-bd6a-8c6cbecec3d8",
   "metadata": {},
   "source": [
    "## Default point case"
   ]
  },
  {
   "cell_type": "code",
   "execution_count": null,
   "id": "208d8258-2f75-4f4b-8ea7-92da20c8ca26",
   "metadata": {
    "tags": []
   },
   "outputs": [],
   "source": [
    "DEFAULT_POINT_INPUT.T.rename(columns={0: \"value\"})"
   ]
  },
  {
   "cell_type": "code",
   "execution_count": null,
   "id": "750e0000-930f-4460-8b62-a263b2bd1b6c",
   "metadata": {
    "tags": []
   },
   "outputs": [],
   "source": [
    "%%time\n",
    "ds = run(\n",
    "    config={\n",
    "        \"filenames\": {\"file_vars\": \"../input/input_variables_point.txt\"},\n",
    "        \"userdefs\": {\"infmt_opt\": 1, \"nlat\": 1, \"nlon\": 1},\n",
    "    },\n",
    ")"
   ]
  },
  {
   "cell_type": "code",
   "execution_count": null,
   "id": "07b7a05f-c7c9-4414-8ac9-aeadc5c6fd2b",
   "metadata": {
    "tags": []
   },
   "outputs": [],
   "source": [
    "vns = [\"ws\", \"kz\", \"rjcf\", \"emi_isop\"]\n",
    "\n",
    "fig, axs = plt.subplots(1, len(vns), figsize=(10, 4), sharey=True)\n",
    "\n",
    "for vn, ax in zip(vns, axs.flat):\n",
    "    ax.axhline(ds.canopy_height, c=\"0.5\", ls=\"--\")\n",
    "    ds[vn].plot(y=\"z\", ax=ax)\n",
    "\n",
    "ax.set_ylim(ymin=0);"
   ]
  },
  {
   "cell_type": "code",
   "execution_count": null,
   "id": "4e0d542a-0b72-4a31-b409-bafe39d84428",
   "metadata": {
    "tags": []
   },
   "outputs": [],
   "source": [
    "(\n",
    "    ds[[vn for vn in ds.data_vars if vn.startswith(\"emi_\")]]\n",
    "    .sel(z=10, method=\"nearest\")\n",
    "    .to_pandas()\n",
    "    .to_frame()\n",
    "    .plot.bar(figsize=(6, 3), legend=False)\n",
    ")\n",
    "plt.yscale(\"log\")"
   ]
  },
  {
   "cell_type": "markdown",
   "id": "439168bc-950f-4c77-97b4-631199cd16af",
   "metadata": {},
   "source": [
    "## $z_0 / h_c$\n",
    "\n",
    "The namelist parameter `z0ghc` represents the ratio of ground roughness length to canopy top height, i.e.\n",
    "$z_0 / h_c$. In general, they increase together, but this is still a tunable parameter."
   ]
  },
  {
   "cell_type": "code",
   "execution_count": null,
   "id": "3ae8fd3d-1bd7-4c2a-811f-ba25feec3a27",
   "metadata": {
    "tags": []
   },
   "outputs": [],
   "source": [
    "%%time\n",
    "\n",
    "cases = config_cases(\n",
    "    file_vars=\"../input/input_variables_point.txt\",\n",
    "    infmt_opt=1,\n",
    "    nlat=1,\n",
    "    nlon=1,\n",
    "    z0ghc=np.power(10, np.linspace(-4, np.log10(0.25), 100)).tolist(),\n",
    "    product=False,\n",
    ")\n",
    "ds = run_config_sens(cases)\n",
    "ds"
   ]
  },
  {
   "cell_type": "code",
   "execution_count": null,
   "id": "a6264493-027d-4959-bf4a-e8fa6e457e8d",
   "metadata": {
    "tags": []
   },
   "outputs": [],
   "source": [
    "hc = ds.canopy_height.isel(case=0)\n",
    "assert (ds.canopy_height == hc).all()\n",
    "ds_c = ds.isel(z=ds.z <= hc).mean(\"z\")  # canopy mean\n",
    "\n",
    "vns = [\n",
    "    \"ws\",\n",
    "    \"kz\",\n",
    "    \"waf\",\n",
    "]\n",
    "\n",
    "fig, axs = plt.subplots(1, len(vns), figsize=(9, 3.5), sharey=False)\n",
    "\n",
    "fig.suptitle(\"Canopy mean\")\n",
    "\n",
    "for vn, ax in zip(vns, axs.flat):\n",
    "    ax.plot(ds_c[\"z0ghc\"], ds_c[vn])\n",
    "    ax.set(ylabel=vn, xlabel=\"$z_0 / h_c$\")\n",
    "    ax.set_xscale(\"log\")"
   ]
  },
  {
   "cell_type": "markdown",
   "id": "5445f2d8-3187-48a8-85e6-002cd2253c63",
   "metadata": {},
   "source": [
    "## Input variables\n",
    "\n",
    "We can create different point input files based on the default case and run the model for each,\n",
    "allowing us to examine the sensitivity to the input variables.\n",
    "\n",
    "Note that files matching `test_*.txt` are gitignored."
   ]
  },
  {
   "cell_type": "code",
   "execution_count": null,
   "id": "727565ec-baea-43cf-b007-4e2c5f742d46",
   "metadata": {},
   "outputs": [],
   "source": []
  }
 ],
 "metadata": {
  "kernelspec": {
   "display_name": "Python 3 (ipykernel)",
   "language": "python",
   "name": "python3"
  },
  "language_info": {
   "codemirror_mode": {
    "name": "ipython",
    "version": 3
   },
   "file_extension": ".py",
   "mimetype": "text/x-python",
   "name": "python",
   "nbconvert_exporter": "python",
   "pygments_lexer": "ipython3",
   "version": "3.10.10"
  }
 },
 "nbformat": 4,
 "nbformat_minor": 5
}
